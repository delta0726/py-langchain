{
 "cells": [
  {
   "cell_type": "markdown",
   "id": "19c03528",
   "metadata": {},
   "source": [
    "# 2 Model I/O - 言語モデルを扱いやすくする"
   ]
  },
  {
   "cell_type": "markdown",
   "id": "5fcf2dbd",
   "metadata": {},
   "source": [
    "- 大規模言語モデルで意図した回答を得るためには、プロンプトの試行錯誤が必要になる\n",
    "- 試行錯誤はプロンプトの書き方だけでなく、言語モデルの切り替えも対象となる\n",
    "- ｢Model I/O｣は、プロンプトの試行錯誤や言語モデルの切り替えを想定したインターフェースを提供する"
   ]
  },
  {
   "cell_type": "markdown",
   "id": "eadb7f82",
   "metadata": {},
   "source": [
    "＜Model I/Oのサブモジュール＞\n",
    "1. Lnaguage Model\n",
    "2. Prompts\n",
    "3. Output parsers"
   ]
  },
  {
   "cell_type": "markdown",
   "id": "5fc513cd",
   "metadata": {},
   "source": [
    "- Language Modelのmessageは｢Human Message｣｢AI Message｣｢System Message｣の3種類があり会話のやり取りが可能"
   ]
  },
  {
   "cell_type": "markdown",
   "id": "3ce8f271",
   "metadata": {},
   "source": []
  }
 ],
 "metadata": {
  "language_info": {
   "name": "python"
  }
 },
 "nbformat": 4,
 "nbformat_minor": 5
}
