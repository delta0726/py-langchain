{
 "cells": [
  {
   "cell_type": "markdown",
   "id": "75a596be",
   "metadata": {},
   "source": [
    "# 1. 活用され始めた生成AI  "
   ]
  },
  {
   "cell_type": "markdown",
   "id": "6abb9b8a",
   "metadata": {},
   "source": [
    "- 2023年は生成AIにおけるRAG活用が企業に浸透して、企業内のドキュメント管理と検索のあり方が変わった\n",
    "- 具体的には、企業内のドキュメントをベクターDBにホストして、自然言語で質問に対して適切な回答を生成するようになった"
   ]
  },
  {
   "cell_type": "markdown",
   "id": "f447aeff",
   "metadata": {},
   "source": [
    "### 1.外部ソース統合型のQ&Aサービス（デスクトップリサーチ）"
   ]
  },
  {
   "cell_type": "markdown",
   "id": "c84b3468",
   "metadata": {},
   "source": [
    "- Perplexityは、多数のインターネット上の外部情報源から答えを生成する（学習済モデルの活用を超える仕組み）\n",
    "- これにより、ユーザーは膨大な情報を瞬時に整理し、信頼性の高い回答を得ることができるようになった"
   ]
  },
  {
   "cell_type": "markdown",
   "id": "bdad771b",
   "metadata": {},
   "source": [
    "### 2.メタデータ活用型の分析（Text-to-SQL）"
   ]
  },
  {
   "cell_type": "markdown",
   "id": "3f05f3bd",
   "metadata": {},
   "source": [
    "- 企業内のメタデータを活用して、自然言語から複雑な分析クエリ(SQL)を生成するシステムが出てきている\n",
    "- 自然言語でDBの癖まで理解して伝えるのは困難なので、その点をどのようにクリアするかが課題"
   ]
  },
  {
   "cell_type": "markdown",
   "id": "8552e8d6",
   "metadata": {},
   "source": [
    "### 3. カスタマーサポートの強化"
   ]
  },
  {
   "cell_type": "markdown",
   "id": "1942ac79",
   "metadata": {
    "vscode": {
     "languageId": "plaintext"
    }
   },
   "source": [
    "- LLMのチャットボットを実用化することで、24時間のカスタマーサポートが可能となった\n",
    "- 人間の仕事の代替が起きている"
   ]
  },
  {
   "cell_type": "markdown",
   "id": "a155a3ad",
   "metadata": {
    "vscode": {
     "languageId": "plaintext"
    }
   },
   "source": [
    "### 4. コンテンツ生成の自動化"
   ]
  },
  {
   "cell_type": "markdown",
   "id": "708e695a",
   "metadata": {},
   "source": [
    "- LLMによるブログ作成や製品説明は当たり前のように行われている\n",
    "- スライド作成なども実用化されている"
   ]
  }
 ],
 "metadata": {
  "language_info": {
   "name": "python"
  }
 },
 "nbformat": 4,
 "nbformat_minor": 5
}
