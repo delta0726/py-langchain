{
 "cells": [
  {
   "cell_type": "markdown",
   "id": "75a596be",
   "metadata": {},
   "source": [
    "# 1. プロンプトエンジニアリングの必要性  "
   ]
  },
  {
   "cell_type": "markdown",
   "id": "c9e0cad5",
   "metadata": {},
   "source": [
    "- プロンプトエンジニアリングは、LLMから意図した回答を引き出すためのテクニックやノウハウの集積である。\n",
    "- LLMアプリケーションとして階層的に利用するには、LLMの回答を意図した回答でJSONで受け取ることから始まる。"
   ]
  },
  {
   "cell_type": "markdown",
   "id": "660dcbb9",
   "metadata": {},
   "source": []
  }
 ],
 "metadata": {
  "language_info": {
   "name": "python"
  }
 },
 "nbformat": 4,
 "nbformat_minor": 5
}
