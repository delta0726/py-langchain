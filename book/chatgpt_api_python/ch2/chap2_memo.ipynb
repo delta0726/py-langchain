{
 "cells": [
  {
   "cell_type": "markdown",
   "id": "3aef1e27",
   "metadata": {
    "vscode": {
     "languageId": "plaintext"
    }
   },
   "source": [
    "# 開発環境やAPIの準備をしよう"
   ]
  },
  {
   "cell_type": "markdown",
   "id": "1f316ed2",
   "metadata": {},
   "source": [
    "## APIの管理"
   ]
  },
  {
   "cell_type": "markdown",
   "id": "a1bb670f",
   "metadata": {},
   "source": [
    "- APIキーの流出を避けるためプログラムと分離して管理することが好ましい\n",
    "- 環境変数にAPIキーを書き込むことでプログラムに書く必要がない状況を作るのが最も好ましい"
   ]
  },
  {
   "cell_type": "markdown",
   "id": "22b2e022",
   "metadata": {},
   "source": [
    "## ChatGPTの接続スクリプト"
   ]
  },
  {
   "cell_type": "markdown",
   "id": "029e47e0",
   "metadata": {},
   "source": [
    "- openaiのライブラリがベーシック\n",
    "- langchainのライブラリの方が拡張性に優れている(この短いサンプルでは差は僅少)"
   ]
  },
  {
   "cell_type": "markdown",
   "id": "901ae30f",
   "metadata": {},
   "source": [
    "## Chatgpt APIのパラメータを理解する"
   ]
  },
  {
   "cell_type": "markdown",
   "id": "5a431b49",
   "metadata": {},
   "source": [
    "### model（必須）"
   ]
  },
  {
   "cell_type": "markdown",
   "id": "828fdec6",
   "metadata": {},
   "source": [
    "- モデル名を指定"
   ]
  },
  {
   "cell_type": "markdown",
   "id": "0659fc91",
   "metadata": {},
   "source": [
    "### messages（必須）"
   ]
  },
  {
   "cell_type": "markdown",
   "id": "52c09b57",
   "metadata": {
    "vscode": {
     "languageId": "plaintext"
    }
   },
   "source": [
    "- {role}と{contents}を指定する必要がある\n",
    "- {role}はsystem/user/assistantの3種類から設定する\n",
    "- {contents}はプロンプトを入力する"
   ]
  },
  {
   "cell_type": "markdown",
   "id": "f4868cfb",
   "metadata": {
    "vscode": {
     "languageId": "plaintext"
    }
   },
   "source": [
    "- {system}はアシスタント(chatgpt)の振舞いを指定する（例：あなたはアナウンサーです）\n",
    "- {user}はアシスタントへの質問を入力する\n",
    "- {assistant}はChatGPTの文章が出力される"
   ]
  },
  {
   "cell_type": "markdown",
   "id": "eabf6737",
   "metadata": {},
   "source": [
    "### temperature（任意）"
   ]
  },
  {
   "cell_type": "markdown",
   "id": "724dbb5f",
   "metadata": {},
   "source": [
    "- ｢創造性｣｢ランダム性｣をコントロールするパラメータ（0-2で指定、推奨は0.7くらい）\n",
    "- 0に近づくと正確性が高まる一方、2に近づくと創造性が高まる\n",
    "- 創造性を高めすぎると意味不明な回答になる可能性もある"
   ]
  },
  {
   "cell_type": "markdown",
   "id": "bf925975",
   "metadata": {},
   "source": [
    "### top_p（任意）"
   ]
  },
  {
   "cell_type": "markdown",
   "id": "14579c06",
   "metadata": {},
   "source": [
    "- 文章の多様性と一貫性を調整するためのパラメータ（0-1で指定、デフォルトは1）\n",
    "- 値が低いほど文章の次に来る単語を絞り込むことで、可能性の高いフレーズを使用する\n",
    "- top_pは1に固定しておいて、temperatureの方でコントロールすることが推奨されている"
   ]
  },
  {
   "cell_type": "markdown",
   "id": "a6261586",
   "metadata": {},
   "source": [
    "### n（任意）"
   ]
  },
  {
   "cell_type": "markdown",
   "id": "6e941eca",
   "metadata": {},
   "source": [
    "- 回答の回数を指定するパラメータ\n",
    "- 回数を多くするほロバスト性のチェック等に役立つがコストもかかる点に注意"
   ]
  },
  {
   "cell_type": "markdown",
   "id": "4f98a7a0",
   "metadata": {},
   "source": [
    "### stream（任意）"
   ]
  },
  {
   "cell_type": "markdown",
   "id": "a43baf62",
   "metadata": {},
   "source": [
    "- リアルタイムに回答を返してもらうかを設定するパラメータ"
   ]
  },
  {
   "cell_type": "markdown",
   "id": "38483826",
   "metadata": {},
   "source": [
    "### stop（任意）"
   ]
  },
  {
   "cell_type": "markdown",
   "id": "24e67ad3",
   "metadata": {},
   "source": [
    "- 指定した文字列が出現した場合に出力を停止する"
   ]
  },
  {
   "cell_type": "markdown",
   "id": "5b655f22",
   "metadata": {},
   "source": [
    "### max_tokens（任意）"
   ]
  },
  {
   "cell_type": "code",
   "execution_count": null,
   "id": "578a2535",
   "metadata": {
    "vscode": {
     "languageId": "plaintext"
    }
   },
   "outputs": [],
   "source": [
    "- 最大出力のトークン数を指定する\n",
    "- 見やすさ/スピード/コスト制御に役立つ"
   ]
  },
  {
   "cell_type": "markdown",
   "id": "02539543",
   "metadata": {},
   "source": [
    "### presence_penalty（任意）"
   ]
  },
  {
   "cell_type": "markdown",
   "id": "1721cf08",
   "metadata": {},
   "source": [
    "- 同じ単語やフレーズが頻繁に登場することを制御するパラメータ（多様性を制御）\n",
    "- 制御を強めると、結果的に新しい話題を提供しやすくなるとされる"
   ]
  },
  {
   "cell_type": "markdown",
   "id": "b6218af9",
   "metadata": {},
   "source": [
    "### frequency_penalty（任意）"
   ]
  },
  {
   "cell_type": "code",
   "execution_count": null,
   "id": "db092089",
   "metadata": {
    "vscode": {
     "languageId": "plaintext"
    }
   },
   "outputs": [],
   "source": [
    "- 同じ単語やフレーズが頻繁に登場することを制御するパラメータ（繰り返しを制御）"
   ]
  },
  {
   "cell_type": "markdown",
   "id": "a1d9bff5",
   "metadata": {},
   "source": [
    "### logit_bias（任意）"
   ]
  },
  {
   "cell_type": "markdown",
   "id": "6f5469f2",
   "metadata": {},
   "source": [
    "### user（任意）"
   ]
  },
  {
   "cell_type": "markdown",
   "id": "fb1e6a44",
   "metadata": {},
   "source": []
  }
 ],
 "metadata": {
  "language_info": {
   "name": "python"
  }
 },
 "nbformat": 4,
 "nbformat_minor": 5
}
