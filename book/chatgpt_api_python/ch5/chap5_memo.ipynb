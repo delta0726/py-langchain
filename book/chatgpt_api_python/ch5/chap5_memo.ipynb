{
 "cells": [
  {
   "cell_type": "markdown",
   "id": "42104f1e",
   "metadata": {},
   "source": [
    "# 音声データを文字おこしして要約してみよう"
   ]
  },
  {
   "cell_type": "markdown",
   "id": "2f74225e",
   "metadata": {},
   "source": []
  }
 ],
 "metadata": {
  "language_info": {
   "name": "python"
  }
 },
 "nbformat": 4,
 "nbformat_minor": 5
}
