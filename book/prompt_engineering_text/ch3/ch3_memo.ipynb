{
 "cells": [
  {
   "cell_type": "markdown",
   "id": "499ac3f7",
   "metadata": {
    "vscode": {
     "languageId": "plaintext"
    }
   },
   "source": [
    "# 3-1 要約タスク"
   ]
  },
  {
   "cell_type": "code",
   "execution_count": null,
   "id": "e281adc9",
   "metadata": {
    "vscode": {
     "languageId": "plaintext"
    }
   },
   "outputs": [],
   "source": [
    "- 要約タスクのパラメータとして｢文字数｣がある\n",
    "- 入力した文章の重要度を判定させることも可能（P112-113）"
   ]
  },
  {
   "cell_type": "code",
   "execution_count": null,
   "id": "4a8f3ee2",
   "metadata": {
    "vscode": {
     "languageId": "plaintext"
    }
   },
   "outputs": [],
   "source": [
    "- 一般的な要約\n",
    "- 数値やデータを強調した要約\n",
    "- 物語のストーリーを要約\n",
    "- 批判的な視点で要約\n",
    "- 箇条書きで要約\n",
    "- 一言で要約\n",
    "- 時系列に沿って要約\n",
    "- 比較しながら要約\n",
    "- 質問と答えの形式で要約\n",
    "- 背景情報を中心にして要約\n",
    "- 逆説を含めた要約\n",
    "- 背景情報を中心にして要約\n",
    "- 逆説を含めた要約\n",
    "- 短所長所を個別に要約\n",
    "- 特定のトピックを強調した要約\n",
    "- 数値化して要約"
   ]
  },
  {
   "cell_type": "markdown",
   "id": "5f32a2c9",
   "metadata": {
    "vscode": {
     "languageId": "plaintext"
    }
   },
   "source": [
    "## 情報の欠落と歪曲について"
   ]
  },
  {
   "cell_type": "code",
   "execution_count": null,
   "id": "864e9b5a",
   "metadata": {
    "vscode": {
     "languageId": "plaintext"
    }
   },
   "outputs": [],
   "source": [
    "- 大規模言語モデルはたいてい適切な要約を行ってくる\n",
    "- 関係ない文章を持てこないように、定義を明確化する必要がある（文章は都度与える）\n",
    "- ハルシネーションが起きるのは絶対的に情報量の少ないWEB情報に基づく知識での回答"
   ]
  },
  {
   "cell_type": "markdown",
   "id": "89bf734a",
   "metadata": {},
   "source": [
    "## 出典や引用元を明示させた要約"
   ]
  },
  {
   "cell_type": "markdown",
   "id": "48159674",
   "metadata": {},
   "source": [
    "- 生成された文章が怪しいと思った時は、出典を明示させることも方法の一つ\n",
    "- 情報量が不足している場合はハルシネーションの原因になるかもしれないので注意"
   ]
  },
  {
   "cell_type": "markdown",
   "id": "5135d698",
   "metadata": {},
   "source": [
    "## トークン数の制限"
   ]
  },
  {
   "cell_type": "code",
   "execution_count": null,
   "id": "e6f7bdfb",
   "metadata": {
    "vscode": {
     "languageId": "plaintext"
    }
   },
   "outputs": [],
   "source": [
    "- 大規模言語モデルは入力できるトークン数が決まっている\n",
    "- Tokenizerを使うとトークン数を調べることができる\n",
    "- 英語は1単語で1トークン、日本語はひらがなが1-2トークン、漢字は2-4トークン\n",
    "- 日本語入力の場合、入力文字数の7割くらいのトークン数を消費するイメージ\n",
    "- GPT-4は8192トークン(約5000文字)、GPT-3.5は4096トークン（約2500文字）、Web-APIから使う場合は32768トークン(約2100文字)\n",
    "- 英語の方がトークン数が少なくなる（回答精度も高まるとさせる：P159-160）\n",
    "- ただし、日本語特有の言い回しなどもあるので、それを英語にするとかえってトークン数が増える可能性もある"
   ]
  },
  {
   "cell_type": "markdown",
   "id": "ed91c55d",
   "metadata": {
    "vscode": {
     "languageId": "plaintext"
    }
   },
   "source": [
    "## もっと長い文章を要約したい場合"
   ]
  },
  {
   "cell_type": "markdown",
   "id": "e1787f4e",
   "metadata": {},
   "source": [
    "1. 長文テイストを一定サイズに分割\n",
    "2. 分割したテキストをそれぞれ要約\n",
    "3. 要約したテキストを結合して改めて要約"
   ]
  },
  {
   "cell_type": "markdown",
   "id": "21bfdfa9",
   "metadata": {
    "vscode": {
     "languageId": "plaintext"
    }
   },
   "source": [
    "# 3-2 推論タスク"
   ]
  },
  {
   "cell_type": "markdown",
   "id": "6e7116ab",
   "metadata": {
    "vscode": {
     "languageId": "plaintext"
    }
   },
   "source": [
    "## 大規模言語モデルの推論タスク"
   ]
  },
  {
   "cell_type": "code",
   "execution_count": null,
   "id": "1f4bfff3",
   "metadata": {
    "vscode": {
     "languageId": "plaintext"
    }
   },
   "outputs": [],
   "source": [
    "- 推論とは与えられた情報から新しい知識や結論を出すタスク\n",
    "- 大規模言語モデルはWeb上の膨大なテキストやコードを学習して推論を行っている"
   ]
  },
  {
   "cell_type": "markdown",
   "id": "120e363d",
   "metadata": {
    "vscode": {
     "languageId": "plaintext"
    }
   },
   "source": [
    "## テキスト分類タスクについて"
   ]
  },
  {
   "cell_type": "code",
   "execution_count": null,
   "id": "0241ca9b",
   "metadata": {
    "vscode": {
     "languageId": "plaintext"
    }
   },
   "outputs": [],
   "source": [
    "- 従来は機械学習でテキストを学習して分類器を作る必要があった\n",
    "- 大規模言語モデルは学習済モデルであるため、事前学習の手間がかからない\n",
    "- 大規模言語モデルは必ずしも専門分野の知識が十分でないので、ファインチューニングをする必要がある\n",
    "- 分類の選択肢を与えておいて、正解確率をJSON形式で取得することも可能（P119-120）\n",
    "- あらかじめJSONフォーマットを指定しておくと安定した結果を得られる"
   ]
  },
  {
   "cell_type": "markdown",
   "id": "c5ec7442",
   "metadata": {
    "vscode": {
     "languageId": "plaintext"
    }
   },
   "source": [
    "## 感情分類タスク"
   ]
  },
  {
   "cell_type": "markdown",
   "id": "c76ca4c9",
   "metadata": {},
   "source": [
    "- 大規模言語モデルは文章の背後にある｢感情｣も読み取ることが可能\n",
    "- ｢感情分析｣｢オピニオンマイニング｣｢感情AI｣などと呼ばれる\n",
    "- 感情は分類問題として扱われ、感情ごとの確率を出すことが可能"
   ]
  },
  {
   "cell_type": "markdown",
   "id": "7d0a6151",
   "metadata": {},
   "source": [
    "## 文章の評価や採点"
   ]
  },
  {
   "cell_type": "code",
   "execution_count": null,
   "id": "eeb4c4e4",
   "metadata": {
    "vscode": {
     "languageId": "plaintext"
    }
   },
   "outputs": [],
   "source": [
    "- 感情分類タスクを応用すると、文章の評価や採点を行うこともできる\n",
    "- 採点基準はなるべく直交した観点であるべき"
   ]
  },
  {
   "cell_type": "markdown",
   "id": "dc201544",
   "metadata": {},
   "source": [
    "## 情報を元にして結果を推論"
   ]
  },
  {
   "cell_type": "markdown",
   "id": "511597bf",
   "metadata": {},
   "source": [
    "- 文章から想像される状況を描写する（正解/不正解はない）\n",
    "- 手順や状況から目的を推論させる（正解がある）"
   ]
  },
  {
   "cell_type": "markdown",
   "id": "dee1556e",
   "metadata": {},
   "source": [
    "# 3-3 変換タスク"
   ]
  },
  {
   "cell_type": "markdown",
   "id": "c4c50fe2",
   "metadata": {
    "vscode": {
     "languageId": "plaintext"
    }
   },
   "source": [
    "## 翻訳スタイルの指定"
   ]
  },
  {
   "cell_type": "markdown",
   "id": "5f718c47",
   "metadata": {},
   "source": [
    "- 翻訳において、標準語だけでなく方言で出力させることもできる\n",
    "- 文字数の制限をすることで要約タスクと統合することも可能\n",
    "- 格言のように裏に意図したものがある表現は｢意訳｣も効果的\n",
    "- ビジネス調/アカデミック調などスタイルを指定することも可能"
   ]
  },
  {
   "cell_type": "markdown",
   "id": "18bafed4",
   "metadata": {},
   "source": [
    "## パラフレーズのタスク"
   ]
  },
  {
   "cell_type": "markdown",
   "id": "e469212b",
   "metadata": {},
   "source": [
    "- 元の文章を別のフレーズに言い換えること（いわゆる要約）\n",
    "- 難しい文章を簡素化、文章の表現力の向上、自然な表現への変換、などが可能となる"
   ]
  },
  {
   "cell_type": "markdown",
   "id": "6284ff0f",
   "metadata": {},
   "source": [
    "## 文章の校正と添削"
   ]
  },
  {
   "cell_type": "code",
   "execution_count": null,
   "id": "16fbd761",
   "metadata": {
    "vscode": {
     "languageId": "plaintext"
    }
   },
   "outputs": [],
   "source": [
    "- 指示に加えて、備考で注意点を列挙しておくと意図した回答が導ける\n",
    "- 脱字のみを見つけるようなタスクも可能\n",
    "- 文字揺れなども定義しておくと、安定した校正が可能となる"
   ]
  },
  {
   "cell_type": "markdown",
   "id": "94142626",
   "metadata": {
    "vscode": {
     "languageId": "plaintext"
    }
   },
   "source": [
    "## データ形式の変換"
   ]
  },
  {
   "cell_type": "markdown",
   "id": "bd90784a",
   "metadata": {},
   "source": [
    "- CSV形式からJSON形式への変換のようなファイル形式の変換も可能\n",
    "- 変換用の関数が存在しない場合は非常に有効"
   ]
  },
  {
   "cell_type": "markdown",
   "id": "6180b412",
   "metadata": {},
   "source": [
    "# 3-4 拡張タスク"
   ]
  },
  {
   "cell_type": "markdown",
   "id": "4ba05511",
   "metadata": {},
   "source": [
    "## 拡張タスクについて"
   ]
  },
  {
   "cell_type": "markdown",
   "id": "9f5444b9",
   "metadata": {},
   "source": [
    "- 大規模言語モデルにおける拡張タスクとは、与えられた情報をもとに新しいテキストを作成すること\n",
    "- 全く創造的な物ができるというよりは、似たものを組み合わせて作り上げたイメージ\n",
    "- ただし、組み合わせて作った作品でも、読む人によっては創造的なもののように感じる\n",
    "- 拡張タスクは小規模な世界では、コード生成にも活用さている"
   ]
  },
  {
   "cell_type": "markdown",
   "id": "b0bf9f9b",
   "metadata": {},
   "source": [
    "## 物語のアイデア出しはフレームワークを使う"
   ]
  },
  {
   "cell_type": "markdown",
   "id": "518a816e",
   "metadata": {},
   "source": [
    "- 大規模言語モデルは多くのフレームワークを熟知している\n",
    "- 代表的なものに｢起承転結フレームワーク｣がある"
   ]
  },
  {
   "cell_type": "markdown",
   "id": "d0a1e91f",
   "metadata": {},
   "source": [
    "## コード生成について"
   ]
  },
  {
   "cell_type": "markdown",
   "id": "7e491162",
   "metadata": {},
   "source": [
    "- 関数名から予測してプログラムを作成することが可能（P147）\n",
    "- コメントからプログラムを生成することが可能（P148）\n",
    "- 既知のアルゴリズムやライブラリも知っているので精度が高い（P149）"
   ]
  },
  {
   "cell_type": "markdown",
   "id": "07bc49a7",
   "metadata": {},
   "source": [
    "# 3-5 その他のタスク"
   ]
  },
  {
   "cell_type": "code",
   "execution_count": null,
   "id": "ba1c6484",
   "metadata": {
    "vscode": {
     "languageId": "plaintext"
    }
   },
   "outputs": [],
   "source": [
    "- しりとり（P153）"
   ]
  }
 ],
 "metadata": {
  "language_info": {
   "name": "python"
  }
 },
 "nbformat": 4,
 "nbformat_minor": 5
}
