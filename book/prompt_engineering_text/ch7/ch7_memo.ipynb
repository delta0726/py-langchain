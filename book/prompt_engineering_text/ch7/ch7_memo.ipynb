{
 "cells": [
  {
   "cell_type": "markdown",
   "id": "b97630a3",
   "metadata": {},
   "source": [
    "# 7-1 API版の自己整合性（Self-Consistency）"
   ]
  },
  {
   "cell_type": "markdown",
   "id": "3744397e",
   "metadata": {},
   "source": [
    "- 大規模言語モデルはテキスト生成のたびに異なる回答を返す\n",
    "- 自己整合性はアンサンブル学習みたいな考え方で、複数の回答案を取りまとめて最終案とする\n",
    "- Few-Shot CoTと組み合わせることで能力向上が見込める"
   ]
  },
  {
   "cell_type": "markdown",
   "id": "e5c29cb6",
   "metadata": {
    "vscode": {
     "languageId": "plaintext"
    }
   },
   "source": [
    "- Few-Shotプロンプトとは、複数のヒントをプロンプトで与える手法\n",
    "- CoTとは、Chain-of-Thoughtのことで、循環的にプロンプトをまわす手法"
   ]
  },
  {
   "cell_type": "markdown",
   "id": "58a2e072",
   "metadata": {},
   "source": [
    "# 7-2 API版のMAGIシステム（MAGI ToT）"
   ]
  },
  {
   "cell_type": "markdown",
   "id": "f80fe6e1",
   "metadata": {
    "vscode": {
     "languageId": "plaintext"
    }
   },
   "source": [
    "- MAGIシステムは勾配ブースティングのように直列で思考を深めていくシステム\n",
    "- 大規模言語モデルの思考結果を使って次の思考を行うため、間に人間が介在しないのがポイント\n",
    "- Tree-of-Thought(ToT)とは、勾配ブースティングのようにアンサンブル学習を連鎖させる手法 "
   ]
  },
  {
   "cell_type": "markdown",
   "id": "51cf87ae",
   "metadata": {},
   "source": [
    "- LangChainを用いると複数の大規模言語モデルを使うことが可能\n",
    "- モデルごとの個性を反映させることで、より一貫性のある結果を得ることが期待される"
   ]
  },
  {
   "cell_type": "markdown",
   "id": "30049797",
   "metadata": {},
   "source": [
    "# 7-3 計画と解決プロンプト（Plan-and-Solve）"
   ]
  },
  {
   "cell_type": "markdown",
   "id": "f47fb33e",
   "metadata": {
    "vscode": {
     "languageId": "plaintext"
    }
   },
   "source": [
    "- Zero-Shot CoT(P174)とは、｢ステップに分けて考えてください｣という指示で実現する\n",
    "- Plan&Solveでは、｢解決策を計画して、計画に基づいて問題を一歩ずつ解決しましょう｣という指示を出す\n",
    "- ここでは、計画を立てたうえで、解決策としてPythonプログラムを作成＆実行する"
   ]
  },
  {
   "cell_type": "markdown",
   "id": "d4217859",
   "metadata": {},
   "source": [
    "# 7-4 グラウディング（検索など外部リソースの活用）"
   ]
  },
  {
   "cell_type": "markdown",
   "id": "7e08e9f9",
   "metadata": {},
   "source": [
    "- グラウディングとは、モデルが知らない情報を外部リソースと組み合わせる手法\n",
    "- これによりハルシネーションの抑制効果も期待できる\n",
    "- 手段としては検索エンジンをAPI経由で活用して外部ソースを取り込む方法がある"
   ]
  },
  {
   "cell_type": "markdown",
   "id": "3859b0da",
   "metadata": {},
   "source": []
  }
 ],
 "metadata": {
  "language_info": {
   "name": "python"
  }
 },
 "nbformat": 4,
 "nbformat_minor": 5
}
