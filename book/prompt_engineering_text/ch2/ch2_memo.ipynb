{
 "cells": [
  {
   "cell_type": "markdown",
   "id": "499ac3f7",
   "metadata": {
    "vscode": {
     "languageId": "plaintext"
    }
   },
   "source": [
    "# 2-1 大規模言語モデルの基本的な動作を確認しよう"
   ]
  },
  {
   "cell_type": "code",
   "execution_count": null,
   "id": "7a610449",
   "metadata": {
    "vscode": {
     "languageId": "plaintext"
    }
   },
   "outputs": [],
   "source": [
    "- 入力したプロンプトに対して尤もらしい続きの文章を作成する\n",
    "- これは、ハルシネーションが生み出される原因となっている"
   ]
  },
  {
   "cell_type": "markdown",
   "id": "79c8411c",
   "metadata": {
    "vscode": {
     "languageId": "plaintext"
    }
   },
   "source": [
    "# 2-2 プロンプトのQ&Aフォーマット"
   ]
  },
  {
   "cell_type": "markdown",
   "id": "6f1ee873",
   "metadata": {},
   "source": [
    "- 意図どおりに答えを引き出したい場合、フォーマットに当てはめて答えさせるように誘導する\n",
    "- Q&A形式を学習しているモデルが多いため、フォーマットを利用することで質疑応答がスムーズになる\n",
    "- 実証的にもQAを明確にして質問したほうが明快な答えが返ってくるようだ（ただし、性能向上で中途半端な質問や文章でも適切な答えが返ってくる印象がある）\n",
    "- 一般常識な質問から、創造的な質問まで、モデル性能の向上で尤もらしい答えを返してくる"
   ]
  },
  {
   "cell_type": "markdown",
   "id": "cefb656c",
   "metadata": {},
   "source": [
    "以下のようにQA形式で質問するのが最もベーシックなテンプレートとなる\n",
    "\n",
    "Q: 海は何色ですか?  \n",
    "A:"
   ]
  },
  {
   "cell_type": "markdown",
   "id": "e94279a4",
   "metadata": {},
   "source": [
    "# 2-3 指示と入力のフォーマットについて"
   ]
  },
  {
   "cell_type": "markdown",
   "id": "f2b2a247",
   "metadata": {},
   "source": [
    "- プロンプトを設計する最も簡単な方法は、｢指示｣と｢入力｣を与えること\n",
    "- 入力においてはマークダウン記法が役立つ（P68-71）\n",
    "- 大規模言語モデルは入力したプロンプトにある指示を読み取って忠実に処理する力も備えている\n",
    "- 指示を明確にすると出力内容をコントロールできる（期待する結果のみを出力、不要な情報は出さない）\n",
    "- 選択肢を文字列で与える場合は、一般的に人間が判別できる様式であればよい（チョコレート, 唐辛子, ニンジン, 飴玉）\n",
    "- 知識は文化圏によって異なる場合があるので、指示を明確にする必要がある（リンゴの色）"
   ]
  },
  {
   "cell_type": "markdown",
   "id": "c1ae6df7",
   "metadata": {},
   "source": [
    "\\### 指示:  \n",
    "続きのテキストを生成してください。\n",
    "\n",
    "\\### 入力:   \n",
    "子供が好きな食べ物は\n",
    "\n",
    "\\### 出力:  \n"
   ]
  },
  {
   "cell_type": "markdown",
   "id": "54ac9b5d",
   "metadata": {},
   "source": [
    "# 2-4 出力フォーマットの指定"
   ]
  },
  {
   "cell_type": "code",
   "execution_count": null,
   "id": "96460361",
   "metadata": {
    "vscode": {
     "languageId": "plaintext"
    }
   },
   "outputs": [],
   "source": [
    "- 大規模言語モデルの出力形式で一般的なデータ構造のものは以下の通り\n",
    "    - 箇条書き/リスト形式\n",
    "    - 表形式（マークダウン形式）\n",
    "    - CSV形式\n",
    "    - JSON形式"
   ]
  },
  {
   "cell_type": "code",
   "execution_count": null,
   "id": "61755749",
   "metadata": {
    "vscode": {
     "languageId": "plaintext"
    }
   },
   "outputs": [],
   "source": [
    "- CSV形式は汎用的なフォーマットだが、複雑なデータを表現するのが難しい\n",
    "- JSON形式は構造化されたデータを表現できて可読性にも優れている（P81）\n",
    "- その他、XML/YAML/Markdownなど、ファイル形式に応じた幅広い出力が可能（P85-86）"
   ]
  },
  {
   "cell_type": "markdown",
   "id": "6959b13b",
   "metadata": {},
   "source": [
    "# 2-5 プロンプトに与えるコンポーネント"
   ]
  },
  {
   "cell_type": "markdown",
   "id": "d18cebc8",
   "metadata": {},
   "source": [
    "- プロンプトにけるコンポーネントとは、｢指示｣｢入力｣｢背景情報｣｢制約｣などの要素を指す\n",
    "- コンポーネントを明確にして、プロンプト全体を構造的に捕らえられるようにすることが重要\n",
    "- コンポーネントは最終的にテンプレートとして扱われる\n",
    "    - 期待した回答が期待した箇所に返ってくる（JSONの構造に似ている）"
   ]
  },
  {
   "cell_type": "markdown",
   "id": "37b164ae",
   "metadata": {},
   "source": [
    "- 代表的なコンポーネント\n",
    "    - 指示： 大規模言語モデルに何をしてほしいのかを指示する\n",
    "    - 背景情報： 指示を遂行する上で必要となる背景情報\n",
    "    - 入力： 大規模言語モデルに与えるデータ\n",
    "    - 出力： 期待する出力フォーマットや出力例"
   ]
  },
  {
   "cell_type": "markdown",
   "id": "66a88fd5",
   "metadata": {},
   "source": [
    "- コンポーネントを明示しなくて、大規模言語モデルは文脈の中から理解してくれる（ある程度）\n",
    "- むしろ、エンジニアがパーツを整理するために積極的にコンポーネントを分けるとよい"
   ]
  },
  {
   "cell_type": "markdown",
   "id": "f3991f08",
   "metadata": {
    "vscode": {
     "languageId": "plaintext"
    }
   },
   "source": [
    "# 2-6.作図と画像生成について"
   ]
  },
  {
   "cell_type": "markdown",
   "id": "01ac0571",
   "metadata": {},
   "source": [
    "- mermaid / PlantUML / Graphvizは、簡単なテキストデータを元に作図を行うツール\n",
    "- 大規模言語モデルでフローに基づくmermaidコードを出力してもらうことで、手軽に可視化することができる"
   ]
  },
  {
   "cell_type": "code",
   "execution_count": null,
   "id": "51c1c53d",
   "metadata": {
    "vscode": {
     "languageId": "plaintext"
    }
   },
   "outputs": [],
   "source": [
    "- draw.ioも柔軟性のある優れた可視化ツールといえる"
   ]
  },
  {
   "cell_type": "code",
   "execution_count": null,
   "id": "e281adc9",
   "metadata": {
    "vscode": {
     "languageId": "plaintext"
    }
   },
   "outputs": [],
   "source": []
  }
 ],
 "metadata": {
  "language_info": {
   "name": "python"
  }
 },
 "nbformat": 4,
 "nbformat_minor": 5
}
