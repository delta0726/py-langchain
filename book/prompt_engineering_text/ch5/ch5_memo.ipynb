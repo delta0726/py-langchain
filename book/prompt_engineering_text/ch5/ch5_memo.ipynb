{
 "cells": [
  {
   "cell_type": "markdown",
   "id": "886ae225",
   "metadata": {},
   "source": [
    "# 5-1 プロフィールと履歴書"
   ]
  },
  {
   "cell_type": "markdown",
   "id": "c1f8556e",
   "metadata": {},
   "source": [
    "- ロールを与えただけの単純なもの（P236）\n",
    "- MAGI-ToTのフレームワークで指示を出して、スコアリングしながら再帰処理をさせている（P237）\n",
    "- 生成AIが魅力的と思うプロフィールを作成するようにAIに主導権を渡す（P239）"
   ]
  },
  {
   "cell_type": "markdown",
   "id": "3152cf87",
   "metadata": {
    "vscode": {
     "languageId": "ini"
    }
   },
   "source": [
    "# 5-3 アイデア想起法を駆使"
   ]
  },
  {
   "cell_type": "markdown",
   "id": "84b2a7d1",
   "metadata": {
    "vscode": {
     "languageId": "markdown"
    }
   },
   "source": [
    "### SCAMPER"
   ]
  },
  {
   "cell_type": "code",
   "execution_count": null,
   "id": "baedda61",
   "metadata": {
    "vscode": {
     "languageId": "markdown"
    }
   },
   "outputs": [],
   "source": []
  }
 ],
 "metadata": {
  "language_info": {
   "name": "python"
  }
 },
 "nbformat": 4,
 "nbformat_minor": 5
}
