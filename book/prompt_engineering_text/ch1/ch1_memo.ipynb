{
 "cells": [
  {
   "cell_type": "markdown",
   "id": "271677c6",
   "metadata": {},
   "source": [
    "# 大規模言語モデルとは"
   ]
  },
  {
   "cell_type": "markdown",
   "id": "4023db79",
   "metadata": {},
   "source": [
    "- インターネット上にある大量のテキストデータを学習した自然言語処理モデル\n",
    "- ディープラーニングモデルを用いて実現されている\n",
    "- 数千億ものパラメータをもち、数百GBにも及ぶテキストデータを学習している\n",
    "- 現在のモデルはTransformerをベースに開発されている"
   ]
  },
  {
   "cell_type": "markdown",
   "id": "a82b1c21",
   "metadata": {},
   "source": [
    "# プロンプトエンジニアリングの必要性"
   ]
  },
  {
   "cell_type": "code",
   "execution_count": null,
   "id": "eba89824",
   "metadata": {
    "vscode": {
     "languageId": "plaintext"
    }
   },
   "outputs": [],
   "source": []
  }
 ],
 "metadata": {
  "language_info": {
   "name": "python"
  }
 },
 "nbformat": 4,
 "nbformat_minor": 5
}
