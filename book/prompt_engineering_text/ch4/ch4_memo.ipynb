{
 "cells": [
  {
   "cell_type": "markdown",
   "id": "499ac3f7",
   "metadata": {
    "vscode": {
     "languageId": "plaintext"
    }
   },
   "source": [
    "# 4-1 Zero-shot / One-shot / Few-shot プロンプト"
   ]
  },
  {
   "cell_type": "markdown",
   "id": "b0634ce4",
   "metadata": {},
   "source": [
    "### 用語説明"
   ]
  },
  {
   "cell_type": "markdown",
   "id": "3c1837a7",
   "metadata": {},
   "source": [
    "- Zero-shotプロンプトは、ヒントなしで質問のみを直接与えるプロンプトをいう\n",
    "- Few-shotプロンプトは、何かしらのヒントを与えるプロンプトをいう\n",
    "- One-shotプロンプトは、ヒントが1つだけのプロンプトをいう"
   ]
  },
  {
   "cell_type": "markdown",
   "id": "f0f4acee",
   "metadata": {},
   "source": [
    "### ポイント"
   ]
  },
  {
   "cell_type": "markdown",
   "id": "f5d180c1",
   "metadata": {},
   "source": [
    "- 大規模言語モデルへの質問が曖昧過ぎると意図した回答は得られない（特に文字数が少なすぎる）\n",
    "- One-Shot/Few-Shotのように例を出すと意図した答えが返ってくる\n",
    "- ヒントの与え方によって導き出される答えのフォーカスが定まることを意味する（検索エンジンに似ている）\n",
    "- 例とは、出力してほしい回答例、回答形式の例示、などがある"
   ]
  },
  {
   "cell_type": "markdown",
   "id": "1990f8bd",
   "metadata": {},
   "source": [
    "### インプリケーション"
   ]
  },
  {
   "cell_type": "markdown",
   "id": "bd71fa4f",
   "metadata": {},
   "source": [
    "意図した回答を得るためのプロンプトは｢Few-shot｣で作成すべき"
   ]
  },
  {
   "cell_type": "markdown",
   "id": "65ebb4b0",
   "metadata": {},
   "source": [
    "# 4-2 思考の連鎖（Chain-of-thought）"
   ]
  },
  {
   "cell_type": "code",
   "execution_count": null,
   "id": "0773b0e0",
   "metadata": {
    "vscode": {
     "languageId": "plaintext"
    }
   },
   "outputs": [],
   "source": [
    "- 思考の連鎖とは、大規模言語モデルに中間推論ステップを与えることで推論能力を改善する手法\n",
    "- 一般常識問題において生成AIは間違うことがあるため、その知見をプロンプトで与えて精度を高める\n",
    "- 一般常識の間違いは致命的なミスとなるので、セオリーは与えておくほうが無難\n",
    "- 生成AI自体が進化しているので、間違い自体は少なくなっている"
   ]
  },
  {
   "cell_type": "markdown",
   "id": "5a751528",
   "metadata": {},
   "source": [
    "- P175のプロンプトは、ぶどうを何色で見るかで答えが変わる。\n",
    "- 生成AIはブドウに赤色の品種があることを注記したうえで、回答を作成してきた点が興味深い\n",
    "- 赤色の果物を指定すると当然にして意図した答えが返ってくる"
   ]
  },
  {
   "cell_type": "code",
   "execution_count": null,
   "id": "9d56f22e",
   "metadata": {
    "vscode": {
     "languageId": "plaintext"
    }
   },
   "outputs": [],
   "source": [
    "- 壁紙の計算問題のような算数の思考力を問う問題でも回答を導いてくる\n",
    "- ｢検算｣をさせることで回答に安心感が生まれる（逆が真かどうかを問いかける行為全般）\n",
    "- Few-shotプロンプトとして回答例を示して、別の問題を解かせることもできる（P180）\n",
    "- zero-shot COTを成功させるには、「ステップ・バイ・ステップで教えてください」と問いかけるとよい"
   ]
  },
  {
   "cell_type": "markdown",
   "id": "bf50a0c3",
   "metadata": {},
   "source": [
    "## 大規模言語モデルを刺激するフレーズ"
   ]
  },
  {
   "cell_type": "markdown",
   "id": "017e703e",
   "metadata": {},
   "source": [
    "- 深い内容を示唆する｢単語｣を知っていると指示が明確になる（日本語力の問題）\n",
    "- 大規模言語モデルの精度向上により、そのフレーズが無くても似た結果を返すことが多い"
   ]
  },
  {
   "cell_type": "markdown",
   "id": "5bdaa249",
   "metadata": {
    "vscode": {
     "languageId": "plaintext"
    }
   },
   "source": [
    "### フレーズ例"
   ]
  },
  {
   "cell_type": "markdown",
   "id": "a14c34e5",
   "metadata": {},
   "source": [
    "- 多角的な視点で答えてください（色々な視点で考える）\n",
    "- 水平思考で考えてください（物事を多角的に考察して新しい発想を生み出す）\n",
    "- デザイン思考で考えてください（利用者のニーズを考える）\n",
    "- 問題解決思考で考えてください（課題に対して原因を分析して解決策を提案する）\n",
    "- 仮説思考で考えてください（物事の原因と結果を考察する）\n",
    "- 批判的思考で考えてください（客観的に物事の根拠や論理性を吟味する）\n",
    "- アナロジー思考で考えてください（一つの状況や問題から他の市場を類推して視点を見つける）\n",
    "- アブダクティブ思考で考えてください（既存の事象から仮説を見出して回答する）\n",
    "- 構造化思考で考えてください（情報やアイデアを整理して分析する）\n",
    "- ホリスティック思考で考えてください（状況や問題を全体的にとらえて考える）\n",
    "- 反証的思考で考えてください（仮説や信念が間違っていることを示す根拠を探す）"
   ]
  },
  {
   "cell_type": "markdown",
   "id": "13d3091d",
   "metadata": {},
   "source": [
    "# 4-3 自己整合性（Self-Consistency）"
   ]
  },
  {
   "cell_type": "markdown",
   "id": "1c508a40",
   "metadata": {},
   "source": [
    "- 自己整合性とは、同じプロンプトを複数回与えて、得られた複数個の結果を利用して一貫性のある回答を得る手法\n",
    "- 大規模言語モデルは毎回答えが変わることに対するソリューション\n",
    "- 最近はSeedパラメータを設定することで回答を安定させることができる\n",
    "- 大規模言語モデルの精度向上で一般解のある質問に対する回答揺れは少ない"
   ]
  },
  {
   "cell_type": "markdown",
   "id": "d7b4fa34",
   "metadata": {},
   "source": [
    "# 4-4 思考の木（Tree-of-Thought）"
   ]
  },
  {
   "cell_type": "markdown",
   "id": "1a4d4064",
   "metadata": {},
   "source": [
    "- 思考の連鎖(CoT)は中間ステップで間違えると、導かれる結果が歪んでしまう\n",
    "- 思考の木（ToT）は思考を横展開して明らかな間違いを打ち切りながら探索を行う"
   ]
  },
  {
   "cell_type": "markdown",
   "id": "9f4ee84b",
   "metadata": {},
   "source": [
    "## プロンプトに落とし込む"
   ]
  },
  {
   "cell_type": "markdown",
   "id": "5d359e88",
   "metadata": {},
   "source": [
    "- 指示で思考をプロセスを指示する\n",
    "- ｢複数人で議論していること｣「間違いの推論を退出させること」「絞り込みを繰り返すこと」を指示している\n",
    "- 議論展開を解説した回答が得られる\n",
    "- 必ずしも推論力が高まるわけではない点に注意"
   ]
  },
  {
   "cell_type": "markdown",
   "id": "c6368453",
   "metadata": {},
   "source": [
    "## 24gameからのインプリケーション"
   ]
  },
  {
   "cell_type": "markdown",
   "id": "00418212",
   "metadata": {},
   "source": [
    "- P200_1_24game-cot.prompt.txt\n",
    "- 大規模言語モデルでこの問題を探索的に解こうとしたが、最終的に解けなかった\n",
    "- ただし、書籍では解けているようだ\n",
    "- ｢Pythonコードを使った方が効率的に探せる｣と生成AI自身が答えた\n",
    "- 「それぞれの要素は1回しか使ってはならない」をプロンプトに追記するとすぐ解けた"
   ]
  },
  {
   "cell_type": "markdown",
   "id": "6ed5dcb5",
   "metadata": {},
   "source": [
    "- P201_1_24game-tot.prompt.txt\n",
    "- 最終的に解けている\n",
    "- それぞれの要素は1回しか使ってはならない（プロンプトに追加）"
   ]
  },
  {
   "cell_type": "markdown",
   "id": "81eda4e9",
   "metadata": {},
   "source": [
    "# 4-5 MAGIシステム（MAGI-ToT）"
   ]
  },
  {
   "cell_type": "markdown",
   "id": "acee7430",
   "metadata": {},
   "source": [
    "### 概要"
   ]
  },
  {
   "cell_type": "markdown",
   "id": "d885acad",
   "metadata": {},
   "source": [
    "- MAGIシステムとは、3つの人格を持ったAIが議論を戦わせて最終的に高度な戦略を立案するもの\n",
    "- 3人寄らば文殊の知恵\n",
    "- これを大規模言語モデルに応用したものが｢MAGI-ToT｣と呼ばれるフレームワーク\n",
    "- プロンプトで役割を与えることで実現する\n",
    "- 役割で直接的に｢MAGI-ToT｣と指定しても理解して同様の作業が出来そう"
   ]
  },
  {
   "cell_type": "markdown",
   "id": "df725f05",
   "metadata": {},
   "source": [
    "### 結論"
   ]
  },
  {
   "cell_type": "markdown",
   "id": "77689502",
   "metadata": {},
   "source": [
    "- MAGI-ToTを生成AIは理解していて、このキーワードだけで議論形式になる\n",
    "- ただし、｢MAGI-ToT｣を使わなくても同じ結論がでる（推論精度が高まるかは不明）\n",
    "- 論理展開がある人間には分かりやすい回答が得られるので良いテクニック"
   ]
  },
  {
   "cell_type": "markdown",
   "id": "b4c7e585",
   "metadata": {},
   "source": [
    "# 4-6 仮想スクリプトエンジン（PAL）"
   ]
  },
  {
   "cell_type": "markdown",
   "id": "0dca18cd",
   "metadata": {},
   "source": [
    "- プログラミング言語の指示に基づいて回答させることも可能（P212）"
   ]
  },
  {
   "cell_type": "markdown",
   "id": "b97630a3",
   "metadata": {},
   "source": [
    "# 4-7 モックプロンプト"
   ]
  },
  {
   "cell_type": "markdown",
   "id": "3744397e",
   "metadata": {},
   "source": []
  }
 ],
 "metadata": {
  "language_info": {
   "name": "python"
  }
 },
 "nbformat": 4,
 "nbformat_minor": 5
}
